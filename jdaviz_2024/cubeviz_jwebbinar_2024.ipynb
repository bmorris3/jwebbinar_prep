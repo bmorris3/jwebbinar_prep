{
 "cells": [
  {
   "cell_type": "markdown",
   "id": "1e9db6d1-13b6-4490-85a9-98e02139eaa8",
   "metadata": {},
   "source": [
    "The data is provided courtesy of MAST and the analysis is based on the paper https://iopscience.iop.org/article/10.3847/1538-4357/ad2a50/pdf by Marina Bianchin et al. (2024)"
   ]
  },
  {
   "cell_type": "markdown",
   "id": "e6b0d32a-844c-47c2-9ae5-e4abcfa7469b",
   "metadata": {},
   "source": [
    "We will start with our imports:"
   ]
  },
  {
   "cell_type": "code",
   "execution_count": 1,
   "id": "c4ea4f54-99e6-4247-9aef-e8c9016e9079",
   "metadata": {},
   "outputs": [],
   "source": [
    "# This is where we import the cubeviz configuration\n",
    "from jdaviz import Cubeviz\n",
    "\n",
    "# For accessing the file from MAST and loading it into a temporary directory\n",
    "import tempfile\n",
    "from astroquery.mast import Observations\n",
    "import warnings\n",
    "\n",
    "# For creating spectral subsets\n",
    "from glue.core.roi import XRangeROI\n",
    "\n",
    "# For creating spatial subsets\n",
    "from glue.core.roi import CircularROI\n",
    "\n",
    "# For loading line lists\n",
    "from jdaviz.core.linelists import load_preset_linelist\n",
    "\n",
    "# For creating a custom line list\n",
    "from astropy.table import QTable\n",
    "import astropy.units as u"
   ]
  },
  {
   "cell_type": "code",
   "execution_count": 2,
   "id": "ab23c905-8c9d-4044-8536-0c4e2058545e",
   "metadata": {},
   "outputs": [],
   "source": [
    "# Create an instance of cubeviz\n",
    "cubeviz = Cubeviz()"
   ]
  },
  {
   "cell_type": "code",
   "execution_count": 3,
   "id": "bce26f6f-7492-4062-b60a-b82657de82d3",
   "metadata": {},
   "outputs": [],
   "source": [
    "cubeviz.show('sidecar:right')"
   ]
  },
  {
   "cell_type": "code",
   "execution_count": 4,
   "id": "f283b469-e165-4e41-991c-482b1bed1d4b",
   "metadata": {},
   "outputs": [
    {
     "name": "stdout",
     "output_type": "stream",
     "text": [
      "INFO: Found cached file C:\\Users\\javer\\AppData\\Local\\Temp/jw01328-o018_t010_nirspec_g235h-f170lp_s3d.fits with expected size 198227520. [astroquery.query]\n"
     ]
    },
    {
     "name": "stderr",
     "output_type": "stream",
     "text": [
      "INFO:astroquery:Found cached file C:\\Users\\javer\\AppData\\Local\\Temp/jw01328-o018_t010_nirspec_g235h-f170lp_s3d.fits with expected size 198227520.\n"
     ]
    }
   ],
   "source": [
    "fn = 'jw01328-o018_t010_nirspec_g235h-f170lp_s3d.fits'\n",
    "data_dir = tempfile.gettempdir()\n",
    "\n",
    "result = Observations.download_file(f\"mast:JWST/product/{fn}\", local_path=f'{data_dir}/{fn}')\n",
    "\n",
    "with warnings.catch_warnings():\n",
    "    warnings.simplefilter('ignore')\n",
    "    cubeviz.load_data(f'{data_dir}/{fn}')"
   ]
  },
  {
   "cell_type": "code",
   "execution_count": 5,
   "id": "c7d696c4-a27b-4221-bd76-4ac98567232c",
   "metadata": {},
   "outputs": [],
   "source": [
    "# Retrieve viewer object\n",
    "spec_viewer = cubeviz.viewers['spectrum-viewer']._obj\n",
    "\n",
    "# Highlight the H2 1-0S(1) line with a spectral subset\n",
    "spec_viewer.apply_roi(XRangeROI(2.1544, 2.1588))"
   ]
  },
  {
   "cell_type": "code",
   "execution_count": 6,
   "id": "15671e5b-d518-4a50-862c-af160c617488",
   "metadata": {},
   "outputs": [],
   "source": [
    "# This creates a new spectral subset\n",
    "spec_viewer.toolbar.active_tool = spec_viewer.toolbar.tools['bqplot:xrange']\n",
    "\n",
    "# Highlight the Paschen-alpha line with a spectral subset\n",
    "spec_viewer.apply_roi(XRangeROI(1.9033, 1.9085))"
   ]
  },
  {
   "cell_type": "code",
   "execution_count": 7,
   "id": "7ca488fb-0d02-4c4a-9342-a8ef641798c6",
   "metadata": {},
   "outputs": [],
   "source": [
    "# Load H2 line lists and plot the H 1-0S(1) list\n",
    "ll = cubeviz.plugins['Line Lists']._obj\n",
    "ll.open_in_tray()\n",
    "ll.available_lists\n",
    "cubeviz.load_line_list(load_preset_linelist('H2'))\n",
    "cubeviz.erase_spectral_lines()\n",
    "cubeviz.plot_spectral_line('H 1-0S(1)')"
   ]
  },
  {
   "cell_type": "code",
   "execution_count": 8,
   "id": "504da483-b2cc-4d43-aa99-65e39c83b8e6",
   "metadata": {},
   "outputs": [],
   "source": [
    "# Add custom line lists to track Paschen-alpha since it is not present in\n",
    "# available line lists\n",
    "lt = QTable()\n",
    "lt['linename'] = ['Paschen-alpha']\n",
    "lt['rest'] = [1.87513]*u.um\n",
    "cubeviz.load_line_list(lt)"
   ]
  },
  {
   "cell_type": "code",
   "execution_count": 9,
   "id": "f0e6cbfa-3f67-40c9-8268-a165cac05e39",
   "metadata": {},
   "outputs": [],
   "source": [
    "# Look at statistics for the H2 line\n",
    "la = cubeviz.plugins['Line Analysis']\n",
    "la.open_in_tray()\n",
    "la.spectral_subset = 'Subset 1'\n",
    "la.continuum = 'Surrounding'"
   ]
  },
  {
   "cell_type": "code",
   "execution_count": 10,
   "id": "b0062ac8-1d73-4108-bf0e-89a1d253ff80",
   "metadata": {},
   "outputs": [
    {
     "name": "stdout",
     "output_type": "stream",
     "text": [
      "['H 1-0S(1) 2.121', 'Paschen-alpha 1.87513']\n"
     ]
    }
   ],
   "source": [
    "# Select line in order to find redshift of galaxy by comparing rest wavelength\n",
    "# to the observed wavelength\n",
    "print(la._obj.line_items)\n",
    "la._obj.selected_line = 'H 1-0S(1) 2.121'"
   ]
  },
  {
   "cell_type": "code",
   "execution_count": 11,
   "id": "1b605869-f1c1-4b65-9990-b7f6f78f3050",
   "metadata": {},
   "outputs": [
    {
     "data": {
      "text/plain": [
       "0.016875637566430114"
      ]
     },
     "execution_count": 11,
     "metadata": {},
     "output_type": "execute_result"
    }
   ],
   "source": [
    "# Estimated redshift\n",
    "la._obj.selected_line_redshift"
   ]
  },
  {
   "cell_type": "code",
   "execution_count": 12,
   "id": "025a21c0-7686-4ec5-ba48-10acda07671e",
   "metadata": {},
   "outputs": [],
   "source": [
    "# Set line lists to estimated redshift\n",
    "ll.rs_redshift = la._obj.selected_line_redshift"
   ]
  },
  {
   "cell_type": "markdown",
   "id": "616c77bf-8495-4e01-9074-1500bdd44425",
   "metadata": {},
   "source": [
    "Now that we have the spectral emissions highlighted, we can create moment maps for each of them to get a better sense of what is happening in the galaxy. We will start with a moment 0 map, which will show us the concentration of the particular element in the galaxy."
   ]
  },
  {
   "cell_type": "code",
   "execution_count": 13,
   "id": "82cef9b1-6a35-49a0-9e0c-4fac21d82155",
   "metadata": {},
   "outputs": [
    {
     "data": {
      "text/plain": [
       "CCDData([[nan, nan, nan, ..., nan, nan, nan],\n",
       "         [nan, nan, nan, ..., nan, nan, nan],\n",
       "         [nan, nan, nan, ..., nan, nan, nan],\n",
       "         ...,\n",
       "         [nan, nan, nan, ..., nan, nan, nan],\n",
       "         [nan, nan, nan, ..., nan, nan, nan],\n",
       "         [nan, nan, nan, ..., nan, nan, nan]], unit='MJy / sr')"
      ]
     },
     "execution_count": 13,
     "metadata": {},
     "output_type": "execute_result"
    }
   ],
   "source": [
    "# Create a moment map of 0 for the H2 emission line\n",
    "mm = cubeviz.plugins['Moment Maps']\n",
    "mm.open_in_tray()\n",
    "mm.spectral_subset = 'Subset 1'\n",
    "mm.continuum = 'Surrounding'\n",
    "mm.n_moment = 0\n",
    "mm.add_results.label = 'moment-0-h2'\n",
    "mm.add_results.viewer = 'uncert-viewer'\n",
    "mm.calculate_moment()"
   ]
  },
  {
   "cell_type": "code",
   "execution_count": 14,
   "id": "3fb5ba00-5ab8-433c-888d-7c626ecbb9de",
   "metadata": {},
   "outputs": [
    {
     "data": {
      "text/plain": [
       "CCDData([[nan, nan, nan, ..., nan, nan, nan],\n",
       "         [nan, nan, nan, ..., nan, nan, nan],\n",
       "         [nan, nan, nan, ..., nan, nan, nan],\n",
       "         ...,\n",
       "         [nan, nan, nan, ..., nan, nan, nan],\n",
       "         [nan, nan, nan, ..., nan, nan, nan],\n",
       "         [nan, nan, nan, ..., nan, nan, nan]], unit='MJy / sr')"
      ]
     },
     "execution_count": 14,
     "metadata": {},
     "output_type": "execute_result"
    }
   ],
   "source": [
    "# Create a moment map of 0 for the Paschen-alpha emission line\n",
    "mm = cubeviz.plugins['Moment Maps']\n",
    "mm.spectral_subset = 'Subset 2'\n",
    "mm.continuum = 'Surrounding'\n",
    "mm.n_moment = 0\n",
    "mm.add_results.label = 'moment-0-pa'\n",
    "mm.add_results.viewer = 'flux-viewer'\n",
    "mm.calculate_moment()"
   ]
  },
  {
   "cell_type": "markdown",
   "id": "d527a9ec-6efa-4125-af18-9a1eded4cac6",
   "metadata": {},
   "source": [
    "The paper makes some observations about the increased amounts of Paschen-alpha corresponding to star-forming regions in the north, west, and southern areas of the outer ring. There also appears to be a slight trail of this element going from the nucleus to the ring just south east of the nucleus."
   ]
  },
  {
   "cell_type": "markdown",
   "id": "f5dfcb08-b6b3-47ff-a8ca-bac9e20caaa6",
   "metadata": {},
   "source": [
    "We can also see that there is a high concentration of H2 in the nucleus. The paper asserts that this shows evidence of an AGN, because the high concentration of H2 is consistent with a nuclear radio jet that the authors hypothesize is leading to increased star formation in the galaxy. We will now create moment maps with a moment of 1 to see the flux-weighted centroid of the elements. This will show us the redshifting occuring on in the galaxy."
   ]
  },
  {
   "cell_type": "code",
   "execution_count": 15,
   "id": "29fa98db-45c8-4063-92b9-ff01b05ba005",
   "metadata": {},
   "outputs": [
    {
     "data": {
      "text/plain": [
       "CCDData([[nan, nan, nan, ..., nan, nan, nan],\n",
       "         [nan, nan, nan, ..., nan, nan, nan],\n",
       "         [nan, nan, nan, ..., nan, nan, nan],\n",
       "         ...,\n",
       "         [nan, nan, nan, ..., nan, nan, nan],\n",
       "         [nan, nan, nan, ..., nan, nan, nan],\n",
       "         [nan, nan, nan, ..., nan, nan, nan]], unit='km / s')"
      ]
     },
     "execution_count": 15,
     "metadata": {},
     "output_type": "execute_result"
    }
   ],
   "source": [
    "# Create a moment map of 1 for the H2 emission line\n",
    "mm = cubeviz.plugins['Moment Maps']\n",
    "mm.spectral_subset = 'Subset 1'\n",
    "mm.continuum = 'Surrounding'\n",
    "mm.n_moment = 1\n",
    "mm.reference_wavelength = 2.1568\n",
    "mm.add_results.label = 'moment-1-h2'\n",
    "mm.add_results.viewer = 'uncert-viewer'\n",
    "mm.calculate_moment()"
   ]
  },
  {
   "cell_type": "markdown",
   "id": "10102827-16eb-438e-9b43-1935bea02a84",
   "metadata": {},
   "source": [
    "The velocity dispersion map created from Subset 1 is fairly noisy because the H2 line at that wavelength is weaker. We will instead focus on the Paschen-alpha line at 1.9065 um. "
   ]
  },
  {
   "cell_type": "code",
   "execution_count": 16,
   "id": "c9ec6b25-eac7-4172-aab3-7736e2ad2f00",
   "metadata": {},
   "outputs": [
    {
     "data": {
      "text/plain": [
       "CCDData([[nan, nan, nan, ..., nan, nan, nan],\n",
       "         [nan, nan, nan, ..., nan, nan, nan],\n",
       "         [nan, nan, nan, ..., nan, nan, nan],\n",
       "         ...,\n",
       "         [nan, nan, nan, ..., nan, nan, nan],\n",
       "         [nan, nan, nan, ..., nan, nan, nan],\n",
       "         [nan, nan, nan, ..., nan, nan, nan]], unit='km / s')"
      ]
     },
     "execution_count": 16,
     "metadata": {},
     "output_type": "execute_result"
    }
   ],
   "source": [
    "# Create a moment map of 1 for the Paschen-alpha emission line\n",
    "mm = cubeviz.plugins['Moment Maps']\n",
    "mm.spectral_subset = 'Subset 2'\n",
    "mm.continuum = 'Surrounding'\n",
    "mm.n_moment = 1\n",
    "mm.reference_wavelength = 1.9065\n",
    "mm.add_results.label = 'moment-1-pa'\n",
    "mm.add_results.viewer = 'flux-viewer'\n",
    "mm.calculate_moment()"
   ]
  },
  {
   "cell_type": "code",
   "execution_count": 17,
   "id": "84589473-712b-470d-803e-eed413501874",
   "metadata": {},
   "outputs": [
    {
     "data": {
      "text/plain": [
       "CCDData([[nan, nan, nan, ..., nan, nan, nan],\n",
       "         [nan, nan, nan, ..., nan, nan, nan],\n",
       "         [nan, nan, nan, ..., nan, nan, nan],\n",
       "         ...,\n",
       "         [nan, nan, nan, ..., nan, nan, nan],\n",
       "         [nan, nan, nan, ..., nan, nan, nan],\n",
       "         [nan, nan, nan, ..., nan, nan, nan]], unit='km / s')"
      ]
     },
     "execution_count": 17,
     "metadata": {},
     "output_type": "execute_result"
    }
   ],
   "source": [
    "# Create a moment map of 2 for the Paschen-alpha emission line\n",
    "mm = cubeviz.plugins['Moment Maps']\n",
    "mm.spectral_subset = 'Subset 2'\n",
    "mm.continuum = 'Surrounding'\n",
    "mm.n_moment = 2\n",
    "mm.reference_wavelength = 1.9065\n",
    "mm.add_results.label = 'moment-2-pa'\n",
    "mm.add_results.viewer = 'uncert-viewer'\n",
    "mm.calculate_moment()"
   ]
  },
  {
   "cell_type": "code",
   "execution_count": 18,
   "id": "e443fb60-68d9-4fbe-bc5d-a74183897207",
   "metadata": {},
   "outputs": [],
   "source": [
    "po = cubeviz.plugins['Plot Options']\n",
    "po.open_in_tray()\n",
    "po.viewer = 'flux-viewer'\n",
    "po.layer = 'moment-1-pa'\n",
    "po.image_colormap.value = 'rainbow'"
   ]
  },
  {
   "cell_type": "code",
   "execution_count": 19,
   "id": "0a8b662f-4a51-4ed8-9d64-c78e8d27fb50",
   "metadata": {},
   "outputs": [],
   "source": [
    "po.viewer = 'uncert-viewer'\n",
    "po.layer = 'moment-2-pa'\n",
    "po.stretch_preset.value = 90\n",
    "po.image_colormap.value = 'rainbow'"
   ]
  },
  {
   "cell_type": "markdown",
   "id": "bbeaf993-f467-43d0-a67f-ca93dbbaf335",
   "metadata": {},
   "source": [
    "Positive values in the flux and uncertainty viewers correspond to redshifted areas and negative values correspond to blueshifted areas. This means the galaxy is rotating in a counter-clockwise direction. We can find the minimum and maximum values to get an estimate of the speed of rotation."
   ]
  },
  {
   "cell_type": "markdown",
   "id": "89bbfcb5-967e-48eb-916e-c4e0d8d7575b",
   "metadata": {},
   "source": [
    "For the moment 2 map, we can see the outer ring is relatively calm with values close to the minimum threshold of the detector, while the nucleus is very turbulent. This is another sign of a nuclear radio jet coming from the AGN in the nucleus."
   ]
  },
  {
   "cell_type": "code",
   "execution_count": 21,
   "id": "52456a0b-4a2a-4688-8b43-97f76696fb2a",
   "metadata": {},
   "outputs": [],
   "source": [
    "# Create spatial subset around large Paschen-alpha area\n",
    "flux_viewer = cubeviz.viewers['flux-viewer']._obj\n",
    "flux_viewer.toolbar.active_tool = flux_viewer.toolbar.tools['bqplot:truecircle']\n",
    "flux_viewer.apply_roi(CircularROI(xc=28, yc=44.8, radius=5))"
   ]
  },
  {
   "cell_type": "code",
   "execution_count": 22,
   "id": "e9c8df81-b622-480b-8146-345e5a05d16a",
   "metadata": {},
   "outputs": [],
   "source": [
    "# Create spatial subset around the nucleus\n",
    "flux_viewer.toolbar.active_tool = flux_viewer.toolbar.tools['bqplot:truecircle']'jdaviz:homezoom'\n",
    "flux_viewer.toolbar.active_tool = flux_viewer.toolbar.tools['bqplot:truecircle']\n",
    "flux_viewer.apply_roi(CircularROI(xc=23.5, yc=29.2, radius=5))"
   ]
  },
  {
   "cell_type": "markdown",
   "id": "9850daf6-7c69-4918-bb93-435f7412e467",
   "metadata": {},
   "source": [
    "We can see that Subset 3 is highlighting one of the strongest regions of star formation. Subset 4 is highlighting the strong line flux map in the nucleus. We can use the Spectral Extraction plugin to see how the nucleus looks with a conical aperture."
   ]
  },
  {
   "cell_type": "code",
   "execution_count": 25,
   "id": "92130a6b-aca5-41eb-b32c-4464e467aeb2",
   "metadata": {},
   "outputs": [
    {
     "ename": "ValueError",
     "evalue": "Subset 4 not one of ['Entire Cube', 'Subset 2', 'Subset 3'], reverting selection to Entire Cube",
     "output_type": "error",
     "traceback": [
      "\u001b[1;31m---------------------------------------------------------------------------\u001b[0m",
      "\u001b[1;31mValueError\u001b[0m                                Traceback (most recent call last)",
      "Cell \u001b[1;32mIn[25], line 4\u001b[0m\n\u001b[0;32m      2\u001b[0m se \u001b[38;5;241m=\u001b[39m cubeviz\u001b[38;5;241m.\u001b[39mplugins[\u001b[38;5;124m'\u001b[39m\u001b[38;5;124mSpectral Extraction\u001b[39m\u001b[38;5;124m'\u001b[39m]\n\u001b[0;32m      3\u001b[0m se\u001b[38;5;241m.\u001b[39mopen_in_tray()\n\u001b[1;32m----> 4\u001b[0m \u001b[43mse\u001b[49m\u001b[38;5;241;43m.\u001b[39;49m\u001b[43maperture\u001b[49m \u001b[38;5;241m=\u001b[39m \u001b[38;5;124m'\u001b[39m\u001b[38;5;124mSubset 4\u001b[39m\u001b[38;5;124m'\u001b[39m\n\u001b[0;32m      5\u001b[0m se\u001b[38;5;241m.\u001b[39mwavelength_dependent \u001b[38;5;241m=\u001b[39m \u001b[38;5;28;01mTrue\u001b[39;00m\n\u001b[0;32m      6\u001b[0m se\u001b[38;5;241m.\u001b[39maperture_method \u001b[38;5;241m=\u001b[39m \u001b[38;5;124m'\u001b[39m\u001b[38;5;124mExact\u001b[39m\u001b[38;5;124m'\u001b[39m\n",
      "File \u001b[1;32m~\\Documents\\STScI\\jdaviz\\jdaviz\\core\\user_api.py:62\u001b[0m, in \u001b[0;36mUserApiWrapper.__setattr__\u001b[1;34m(self, attr, value)\u001b[0m\n\u001b[0;32m     60\u001b[0m     \u001b[38;5;28;01mif\u001b[39;00m \u001b[38;5;28misinstance\u001b[39m(exp_obj, UnitSelectPluginComponent) \u001b[38;5;129;01mand\u001b[39;00m \u001b[38;5;28misinstance\u001b[39m(value, u\u001b[38;5;241m.\u001b[39mUnit):\n\u001b[0;32m     61\u001b[0m         value \u001b[38;5;241m=\u001b[39m value\u001b[38;5;241m.\u001b[39mto_string()\n\u001b[1;32m---> 62\u001b[0m     \u001b[43mexp_obj\u001b[49m\u001b[38;5;241;43m.\u001b[39;49m\u001b[43mselected\u001b[49m \u001b[38;5;241m=\u001b[39m value\n\u001b[0;32m     63\u001b[0m     \u001b[38;5;28;01mreturn\u001b[39;00m\n\u001b[0;32m     64\u001b[0m \u001b[38;5;28;01melif\u001b[39;00m \u001b[38;5;28misinstance\u001b[39m(exp_obj, AddResults):\n",
      "File \u001b[1;32m~\\Documents\\STScI\\jdaviz\\jdaviz\\core\\template_mixin.py:636\u001b[0m, in \u001b[0;36mBasePluginComponent.__setattr__\u001b[1;34m(self, attr, value, force_super)\u001b[0m\n\u001b[0;32m    633\u001b[0m \u001b[38;5;28;01mif\u001b[39;00m attr[\u001b[38;5;241m0\u001b[39m] \u001b[38;5;241m==\u001b[39m \u001b[38;5;124m'\u001b[39m\u001b[38;5;124m_\u001b[39m\u001b[38;5;124m'\u001b[39m \u001b[38;5;129;01mor\u001b[39;00m force_super \u001b[38;5;129;01mor\u001b[39;00m attr \u001b[38;5;129;01mnot\u001b[39;00m \u001b[38;5;129;01min\u001b[39;00m \u001b[38;5;28mself\u001b[39m\u001b[38;5;241m.\u001b[39m_plugin_traitlets\u001b[38;5;241m.\u001b[39mkeys():\n\u001b[0;32m    634\u001b[0m     \u001b[38;5;28;01mreturn\u001b[39;00m \u001b[38;5;28msuper\u001b[39m()\u001b[38;5;241m.\u001b[39m\u001b[38;5;21m__setattr__\u001b[39m(attr, value)\n\u001b[1;32m--> 636\u001b[0m \u001b[38;5;28;01mreturn\u001b[39;00m \u001b[38;5;28;43msetattr\u001b[39;49m\u001b[43m(\u001b[49m\u001b[38;5;28;43mself\u001b[39;49m\u001b[38;5;241;43m.\u001b[39;49m\u001b[43m_plugin\u001b[49m\u001b[43m,\u001b[49m\u001b[43m \u001b[49m\u001b[38;5;28;43mself\u001b[39;49m\u001b[38;5;241;43m.\u001b[39;49m\u001b[43m_plugin_traitlets\u001b[49m\u001b[38;5;241;43m.\u001b[39;49m\u001b[43mget\u001b[49m\u001b[43m(\u001b[49m\u001b[43mattr\u001b[49m\u001b[43m)\u001b[49m\u001b[43m,\u001b[49m\u001b[43m \u001b[49m\u001b[43mvalue\u001b[49m\u001b[43m)\u001b[49m\n",
      "File \u001b[1;32m~\\anaconda3\\envs\\jdaviz-dev-3.9\\lib\\site-packages\\traitlets\\traitlets.py:716\u001b[0m, in \u001b[0;36mTraitType.__set__\u001b[1;34m(self, obj, value)\u001b[0m\n\u001b[0;32m    714\u001b[0m \u001b[38;5;28;01mif\u001b[39;00m \u001b[38;5;28mself\u001b[39m\u001b[38;5;241m.\u001b[39mread_only:\n\u001b[0;32m    715\u001b[0m     \u001b[38;5;28;01mraise\u001b[39;00m TraitError(\u001b[38;5;124m'\u001b[39m\u001b[38;5;124mThe \u001b[39m\u001b[38;5;124m\"\u001b[39m\u001b[38;5;132;01m%s\u001b[39;00m\u001b[38;5;124m\"\u001b[39m\u001b[38;5;124m trait is read-only.\u001b[39m\u001b[38;5;124m'\u001b[39m \u001b[38;5;241m%\u001b[39m \u001b[38;5;28mself\u001b[39m\u001b[38;5;241m.\u001b[39mname)\n\u001b[1;32m--> 716\u001b[0m \u001b[38;5;28;43mself\u001b[39;49m\u001b[38;5;241;43m.\u001b[39;49m\u001b[43mset\u001b[49m\u001b[43m(\u001b[49m\u001b[43mobj\u001b[49m\u001b[43m,\u001b[49m\u001b[43m \u001b[49m\u001b[43mvalue\u001b[49m\u001b[43m)\u001b[49m\n",
      "File \u001b[1;32m~\\anaconda3\\envs\\jdaviz-dev-3.9\\lib\\site-packages\\traitlets\\traitlets.py:706\u001b[0m, in \u001b[0;36mTraitType.set\u001b[1;34m(self, obj, value)\u001b[0m\n\u001b[0;32m    702\u001b[0m     silent \u001b[38;5;241m=\u001b[39m \u001b[38;5;28;01mFalse\u001b[39;00m\n\u001b[0;32m    703\u001b[0m \u001b[38;5;28;01mif\u001b[39;00m silent \u001b[38;5;129;01mis\u001b[39;00m \u001b[38;5;129;01mnot\u001b[39;00m \u001b[38;5;28;01mTrue\u001b[39;00m:\n\u001b[0;32m    704\u001b[0m     \u001b[38;5;66;03m# we explicitly compare silent to True just in case the equality\u001b[39;00m\n\u001b[0;32m    705\u001b[0m     \u001b[38;5;66;03m# comparison above returns something other than True/False\u001b[39;00m\n\u001b[1;32m--> 706\u001b[0m     \u001b[43mobj\u001b[49m\u001b[38;5;241;43m.\u001b[39;49m\u001b[43m_notify_trait\u001b[49m\u001b[43m(\u001b[49m\u001b[38;5;28;43mself\u001b[39;49m\u001b[38;5;241;43m.\u001b[39;49m\u001b[43mname\u001b[49m\u001b[43m,\u001b[49m\u001b[43m \u001b[49m\u001b[43mold_value\u001b[49m\u001b[43m,\u001b[49m\u001b[43m \u001b[49m\u001b[43mnew_value\u001b[49m\u001b[43m)\u001b[49m\n",
      "File \u001b[1;32m~\\anaconda3\\envs\\jdaviz-dev-3.9\\lib\\site-packages\\traitlets\\traitlets.py:1513\u001b[0m, in \u001b[0;36mHasTraits._notify_trait\u001b[1;34m(self, name, old_value, new_value)\u001b[0m\n\u001b[0;32m   1512\u001b[0m \u001b[38;5;28;01mdef\u001b[39;00m \u001b[38;5;21m_notify_trait\u001b[39m(\u001b[38;5;28mself\u001b[39m, name: \u001b[38;5;28mstr\u001b[39m, old_value: t\u001b[38;5;241m.\u001b[39mAny, new_value: t\u001b[38;5;241m.\u001b[39mAny) \u001b[38;5;241m-\u001b[39m\u001b[38;5;241m>\u001b[39m \u001b[38;5;28;01mNone\u001b[39;00m:\n\u001b[1;32m-> 1513\u001b[0m     \u001b[38;5;28;43mself\u001b[39;49m\u001b[38;5;241;43m.\u001b[39;49m\u001b[43mnotify_change\u001b[49m\u001b[43m(\u001b[49m\n\u001b[0;32m   1514\u001b[0m \u001b[43m        \u001b[49m\u001b[43mBunch\u001b[49m\u001b[43m(\u001b[49m\n\u001b[0;32m   1515\u001b[0m \u001b[43m            \u001b[49m\u001b[43mname\u001b[49m\u001b[38;5;241;43m=\u001b[39;49m\u001b[43mname\u001b[49m\u001b[43m,\u001b[49m\n\u001b[0;32m   1516\u001b[0m \u001b[43m            \u001b[49m\u001b[43mold\u001b[49m\u001b[38;5;241;43m=\u001b[39;49m\u001b[43mold_value\u001b[49m\u001b[43m,\u001b[49m\n\u001b[0;32m   1517\u001b[0m \u001b[43m            \u001b[49m\u001b[43mnew\u001b[49m\u001b[38;5;241;43m=\u001b[39;49m\u001b[43mnew_value\u001b[49m\u001b[43m,\u001b[49m\n\u001b[0;32m   1518\u001b[0m \u001b[43m            \u001b[49m\u001b[43mowner\u001b[49m\u001b[38;5;241;43m=\u001b[39;49m\u001b[38;5;28;43mself\u001b[39;49m\u001b[43m,\u001b[49m\n\u001b[0;32m   1519\u001b[0m \u001b[43m            \u001b[49m\u001b[38;5;28;43mtype\u001b[39;49m\u001b[38;5;241;43m=\u001b[39;49m\u001b[38;5;124;43m\"\u001b[39;49m\u001b[38;5;124;43mchange\u001b[39;49m\u001b[38;5;124;43m\"\u001b[39;49m\u001b[43m,\u001b[49m\n\u001b[0;32m   1520\u001b[0m \u001b[43m        \u001b[49m\u001b[43m)\u001b[49m\n\u001b[0;32m   1521\u001b[0m \u001b[43m    \u001b[49m\u001b[43m)\u001b[49m\n",
      "File \u001b[1;32m~\\anaconda3\\envs\\jdaviz-dev-3.9\\lib\\site-packages\\ipywidgets\\widgets\\widget.py:701\u001b[0m, in \u001b[0;36mWidget.notify_change\u001b[1;34m(self, change)\u001b[0m\n\u001b[0;32m    698\u001b[0m     \u001b[38;5;28;01mif\u001b[39;00m name \u001b[38;5;129;01min\u001b[39;00m \u001b[38;5;28mself\u001b[39m\u001b[38;5;241m.\u001b[39mkeys \u001b[38;5;129;01mand\u001b[39;00m \u001b[38;5;28mself\u001b[39m\u001b[38;5;241m.\u001b[39m_should_send_property(name, \u001b[38;5;28mgetattr\u001b[39m(\u001b[38;5;28mself\u001b[39m, name)):\n\u001b[0;32m    699\u001b[0m         \u001b[38;5;66;03m# Send new state to front-end\u001b[39;00m\n\u001b[0;32m    700\u001b[0m         \u001b[38;5;28mself\u001b[39m\u001b[38;5;241m.\u001b[39msend_state(key\u001b[38;5;241m=\u001b[39mname)\n\u001b[1;32m--> 701\u001b[0m \u001b[38;5;28;43msuper\u001b[39;49m\u001b[43m(\u001b[49m\u001b[43m)\u001b[49m\u001b[38;5;241;43m.\u001b[39;49m\u001b[43mnotify_change\u001b[49m\u001b[43m(\u001b[49m\u001b[43mchange\u001b[49m\u001b[43m)\u001b[49m\n",
      "File \u001b[1;32m~\\anaconda3\\envs\\jdaviz-dev-3.9\\lib\\site-packages\\traitlets\\traitlets.py:1525\u001b[0m, in \u001b[0;36mHasTraits.notify_change\u001b[1;34m(self, change)\u001b[0m\n\u001b[0;32m   1523\u001b[0m \u001b[38;5;28;01mdef\u001b[39;00m \u001b[38;5;21mnotify_change\u001b[39m(\u001b[38;5;28mself\u001b[39m, change: Bunch) \u001b[38;5;241m-\u001b[39m\u001b[38;5;241m>\u001b[39m \u001b[38;5;28;01mNone\u001b[39;00m:\n\u001b[0;32m   1524\u001b[0m \u001b[38;5;250m    \u001b[39m\u001b[38;5;124;03m\"\"\"Notify observers of a change event\"\"\"\u001b[39;00m\n\u001b[1;32m-> 1525\u001b[0m     \u001b[38;5;28;01mreturn\u001b[39;00m \u001b[38;5;28;43mself\u001b[39;49m\u001b[38;5;241;43m.\u001b[39;49m\u001b[43m_notify_observers\u001b[49m\u001b[43m(\u001b[49m\u001b[43mchange\u001b[49m\u001b[43m)\u001b[49m\n",
      "File \u001b[1;32m~\\anaconda3\\envs\\jdaviz-dev-3.9\\lib\\site-packages\\traitlets\\traitlets.py:1568\u001b[0m, in \u001b[0;36mHasTraits._notify_observers\u001b[1;34m(self, event)\u001b[0m\n\u001b[0;32m   1565\u001b[0m \u001b[38;5;28;01melif\u001b[39;00m \u001b[38;5;28misinstance\u001b[39m(c, EventHandler) \u001b[38;5;129;01mand\u001b[39;00m c\u001b[38;5;241m.\u001b[39mname \u001b[38;5;129;01mis\u001b[39;00m \u001b[38;5;129;01mnot\u001b[39;00m \u001b[38;5;28;01mNone\u001b[39;00m:\n\u001b[0;32m   1566\u001b[0m     c \u001b[38;5;241m=\u001b[39m \u001b[38;5;28mgetattr\u001b[39m(\u001b[38;5;28mself\u001b[39m, c\u001b[38;5;241m.\u001b[39mname)\n\u001b[1;32m-> 1568\u001b[0m \u001b[43mc\u001b[49m\u001b[43m(\u001b[49m\u001b[43mevent\u001b[49m\u001b[43m)\u001b[49m\n",
      "File \u001b[1;32m~\\Documents\\STScI\\jdaviz\\jdaviz\\core\\template_mixin.py:1883\u001b[0m, in \u001b[0;36mSubsetSelect._selected_changed\u001b[1;34m(self, event)\u001b[0m\n\u001b[0;32m   1882\u001b[0m \u001b[38;5;28;01mdef\u001b[39;00m \u001b[38;5;21m_selected_changed\u001b[39m(\u001b[38;5;28mself\u001b[39m, event):\n\u001b[1;32m-> 1883\u001b[0m     \u001b[38;5;28;43msuper\u001b[39;49m\u001b[43m(\u001b[49m\u001b[43m)\u001b[49m\u001b[38;5;241;43m.\u001b[39;49m\u001b[43m_selected_changed\u001b[49m\u001b[43m(\u001b[49m\u001b[43mevent\u001b[49m\u001b[43m)\u001b[49m\n\u001b[0;32m   1884\u001b[0m     \u001b[38;5;28mself\u001b[39m\u001b[38;5;241m.\u001b[39m_update_has_subregions()\n",
      "File \u001b[1;32m~\\Documents\\STScI\\jdaviz\\jdaviz\\core\\template_mixin.py:984\u001b[0m, in \u001b[0;36mSelectPluginComponent._selected_changed\u001b[1;34m(self, event)\u001b[0m\n\u001b[0;32m    982\u001b[0m \u001b[38;5;28;01mif\u001b[39;00m event[\u001b[38;5;124m'\u001b[39m\u001b[38;5;124mnew\u001b[39m\u001b[38;5;124m'\u001b[39m] \u001b[38;5;129;01mnot\u001b[39;00m \u001b[38;5;129;01min\u001b[39;00m \u001b[38;5;28mself\u001b[39m\u001b[38;5;241m.\u001b[39mlabels \u001b[38;5;241m+\u001b[39m [\u001b[38;5;124m'\u001b[39m\u001b[38;5;124m'\u001b[39m]:\n\u001b[0;32m    983\u001b[0m     \u001b[38;5;28mself\u001b[39m\u001b[38;5;241m.\u001b[39mselected \u001b[38;5;241m=\u001b[39m event[\u001b[38;5;124m'\u001b[39m\u001b[38;5;124mold\u001b[39m\u001b[38;5;124m'\u001b[39m]\n\u001b[1;32m--> 984\u001b[0m     \u001b[38;5;28;01mraise\u001b[39;00m \u001b[38;5;167;01mValueError\u001b[39;00m(\u001b[38;5;124mf\u001b[39m\u001b[38;5;124m\"\u001b[39m\u001b[38;5;132;01m{\u001b[39;00mevent[\u001b[38;5;124m'\u001b[39m\u001b[38;5;124mnew\u001b[39m\u001b[38;5;124m'\u001b[39m]\u001b[38;5;132;01m}\u001b[39;00m\u001b[38;5;124m not one of \u001b[39m\u001b[38;5;132;01m{\u001b[39;00m\u001b[38;5;28mself\u001b[39m\u001b[38;5;241m.\u001b[39mlabels\u001b[38;5;132;01m}\u001b[39;00m\u001b[38;5;124m, reverting selection to \u001b[39m\u001b[38;5;132;01m{\u001b[39;00mevent[\u001b[38;5;124m'\u001b[39m\u001b[38;5;124mold\u001b[39m\u001b[38;5;124m'\u001b[39m]\u001b[38;5;132;01m}\u001b[39;00m\u001b[38;5;124m\"\u001b[39m)\n",
      "\u001b[1;31mValueError\u001b[0m: Subset 4 not one of ['Entire Cube', 'Subset 2', 'Subset 3'], reverting selection to Entire Cube"
     ]
    }
   ],
   "source": [
    "# We use a conical aperture for the nucleus because it is a PSF (point spread function)\n",
    "se = cubeviz.plugins['Spectral Extraction']\n",
    "se.open_in_tray()\n",
    "se.aperture = 'Subset 4'\n",
    "se.wavelength_dependent = True\n",
    "se.aperture_method = 'Exact'\n",
    "se.function = 'Sum'\n",
    "se.collapse_to_spectrum()"
   ]
  },
  {
   "cell_type": "code",
   "execution_count": null,
   "id": "6c7dee81-7644-4ccc-87ff-dc5245314da1",
   "metadata": {},
   "outputs": [],
   "source": []
  }
 ],
 "metadata": {
  "kernelspec": {
   "display_name": "Python 3 (ipykernel)",
   "language": "python",
   "name": "python3"
  },
  "language_info": {
   "codemirror_mode": {
    "name": "ipython",
    "version": 3
   },
   "file_extension": ".py",
   "mimetype": "text/x-python",
   "name": "python",
   "nbconvert_exporter": "python",
   "pygments_lexer": "ipython3",
   "version": "3.10.14"
  }
 },
 "nbformat": 4,
 "nbformat_minor": 5
}
