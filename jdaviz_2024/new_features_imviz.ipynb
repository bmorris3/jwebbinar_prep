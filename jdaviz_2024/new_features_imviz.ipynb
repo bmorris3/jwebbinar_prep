{
 "cells": [
  {
   "cell_type": "markdown",
   "id": "bc67eb56-de35-47a0-9acf-5047fef5f5df",
   "metadata": {},
   "source": [
    "# New features in Imviz, May 2024\n",
    "Brett Morris\n",
    "\n",
    "### JWebbinar 2024 on jdaviz\n",
    "\n",
    "jdaviz:\n",
    "* [Documentation](https://jdaviz.readthedocs.io/)\n",
    "* [Source code](https://github.com/spacetelescope/jdaviz)\n",
    "\n",
    "### Outline\n",
    "\n",
    "This tutorial will demonstrate features recently introduced (since 2023) to Imviz ([docs](https://jdaviz.readthedocs.io/en/latest/imviz/index.html)), the jdaviz configuration for 2D images. These new features include: \n",
    "* Introducing the `Orientation` plugin, enabling image rotation\n",
    "* Introducing the `Footprints` plugin, visualizing the fields of view of JWST instruments and beyond.\n",
    "* Introducing convenience methods for automatic RGB color composite visualizations in the `Plot Options` plugin.\n",
    "* Introducing the `Data Quality` plugin for visualizing data quality bit flags on Level 2 data products for JWST, Roman, and HST.\n",
    "\n",
    "### Loading a reference image, launching Imviz"
   ]
  },
  {
   "cell_type": "code",
   "execution_count": null,
   "id": "af4d963c-6cea-4d0c-aeaf-9f35bc3eb340",
   "metadata": {},
   "outputs": [],
   "source": [
    "import warnings\n",
    "\n",
    "import numpy as np\n",
    "import matplotlib.pyplot as plt\n",
    "\n",
    "import astropy.units as u\n",
    "from astropy import units as u\n",
    "from astropy.utils.data import get_pkg_data_filename\n",
    "from astroquery.mast import Observations\n",
    "\n",
    "from jdaviz import Imviz"
   ]
  },
  {
   "cell_type": "markdown",
   "id": "d7a0e4c9-7cf5-4fc4-97e9-ff706cb9cb88",
   "metadata": {},
   "source": [
    "Here we load an example image of the Horsehead Nebula from the STScI Digitized Sky Survey (DSS). This is a FITS image that's included in your installation of `astropy`. (It's actually derived from a photographic plate!)"
   ]
  },
  {
   "cell_type": "code",
   "execution_count": null,
   "id": "322c36cb-a7ae-460e-84b0-be5d2316df8b",
   "metadata": {},
   "outputs": [],
   "source": [
    "filename = get_pkg_data_filename('tutorials/FITS-images/HorseHead.fits')"
   ]
  },
  {
   "cell_type": "markdown",
   "id": "3c7eb857-5f66-42b1-b3ba-707f6883dd17",
   "metadata": {},
   "source": [
    "We initialize `Imviz` and load the DSS image like so:"
   ]
  },
  {
   "cell_type": "code",
   "execution_count": null,
   "id": "3eed67d2-4a4f-42b9-bf19-98f9226c1191",
   "metadata": {},
   "outputs": [],
   "source": [
    "imviz = Imviz()\n",
    "imviz.load_data(filename, data_label='STScI DSS')\n",
    "imviz.show()"
   ]
  },
  {
   "cell_type": "markdown",
   "id": "75681d7a-c508-434d-bc29-620efb9f3f95",
   "metadata": {},
   "source": [
    "By default, any images loaded in the future will be \"matched by pixel,\" such that the (0, 0) pixel of each image overlaps. We can show the images matched by their WCS in the `Orientation` plugin like so:"
   ]
  },
  {
   "cell_type": "code",
   "execution_count": null,
   "id": "94f8cb00-2045-4356-b4e5-10d749e44c05",
   "metadata": {},
   "outputs": [],
   "source": [
    "orientation = imviz.plugins['Orientation']\n",
    "orientation.link_type = \"WCS\""
   ]
  },
  {
   "cell_type": "markdown",
   "id": "54a8b83a-9f21-4cfa-8372-0e4793a141e2",
   "metadata": {},
   "source": [
    "### Tweaking plot options for clearer visualization\n",
    "\n",
    "Let's adjust some of the `Plot Options` parameters to make this image a bit clearer in `Imviz`:"
   ]
  },
  {
   "cell_type": "code",
   "execution_count": null,
   "id": "fc5a5165-d5ac-429a-a909-f35fb25522c6",
   "metadata": {},
   "outputs": [],
   "source": [
    "plot_options = imviz.plugins['Plot Options']\n",
    "\n",
    "plot_options.image_color_mode = 'Monochromatic'\n",
    "plot_options.image_opacity = 1\n",
    "plot_options.image_color = '#ffffff'  # white\n",
    "plot_options.stretch_function = 'Linear'\n",
    "plot_options.stretch_preset = '99.5%'"
   ]
  },
  {
   "cell_type": "markdown",
   "id": "cd775065-72dd-4202-ac14-441e7a28cbbe",
   "metadata": {},
   "source": [
    "### Reorienting the viewer\n",
    "\n",
    "This FITS image was generated with its pixel grid aligned to the standard \"North-up East-left\" orientation, but you wouldn't see a press release in this orientation. They call this the \"Horsehead Nebula,\" but that's clearer in a certain orientation. Let's rotate the field of view in Imviz by 90 degrees counter-clockwise:"
   ]
  },
  {
   "cell_type": "code",
   "execution_count": null,
   "id": "bebd1133-d312-4eaf-b285-4f33330eb3e4",
   "metadata": {},
   "outputs": [],
   "source": [
    "orientation.rotation_angle = 90\n",
    "orientation.add_orientation()"
   ]
  },
  {
   "cell_type": "markdown",
   "id": "d30bb9db-1dff-47d9-8158-68623be005b9",
   "metadata": {},
   "source": [
    "### Visualize an instrument footprint\n",
    "\n",
    "Now suppose we want to plan an observing program for short wavelength JWST [NIRCam](https://jwst-docs.stsci.edu/jwst-near-infrared-camera/nircam-observing-modes/nircam-imaging) imaging of the peak of the horse's mane. We can visualize the footprint of JWST instruments in the `Footprints` plugin, and adjust the RA, Dec, and position angle to capture the features we are most interested in."
   ]
  },
  {
   "cell_type": "code",
   "execution_count": null,
   "id": "f39fbf80-b21e-4756-b529-1b5de721195f",
   "metadata": {},
   "outputs": [],
   "source": [
    "footprints = imviz.plugins['Footprints']\n",
    "footprints.preset = 'NIRCam:short'\n",
    "footprints.keep_active = True\n",
    "footprints.ra = 85.2105\n",
    "footprints.dec = -2.4575\n",
    "footprints.pa = 68.2882"
   ]
  },
  {
   "cell_type": "markdown",
   "id": "17e0e21a-2705-412f-ac23-29c686666083",
   "metadata": {},
   "source": [
    "### Load JWST NIRCam observations\n",
    "\n",
    "Congratulations, your GO program to observe the horse's mane was approved, the observations were successful, and we're ready to load in the new observations! "
   ]
  },
  {
   "cell_type": "code",
   "execution_count": null,
   "id": "0138e27a-145d-4dd7-9b92-5163f2b953fd",
   "metadata": {},
   "outputs": [],
   "source": [
    "labels = [\n",
    "    \"F070W\",\n",
    "    \"F187N\",\n",
    "    \"F212N\"\n",
    "]\n",
    "uris = [\n",
    "    \"mast:jwst/product/jw01192-o015_t015_nircam_clear-f070w_i2d.fits\",\n",
    "    \"mast:jwst/product/jw01192-o015_t015_nircam_clear-f187n_i2d.fits\",\n",
    "    \"mast:jwst/product/jw01192-o015_t015_nircam_clear-f212n_i2d.fits\",\n",
    "]\n",
    "\n",
    "data_dir = 'staged_fits_webbinar_2024/'\n",
    "\n",
    "for uri, data_label in zip(uris, labels):\n",
    "    fn = uri.split('/')[-1]\n",
    "    result = Observations.download_file(uri, local_path=f'{data_dir}/{fn}')\n",
    "    with warnings.catch_warnings():\n",
    "        warnings.simplefilter('ignore')\n",
    "        imviz.load_data(f'{data_dir}/{fn}', data_label=data_label)"
   ]
  },
  {
   "cell_type": "markdown",
   "id": "199ecb52-49e0-41a2-b735-3515f2bfd04e",
   "metadata": {},
   "source": [
    "Let's toggle the visibility of the DSS image, now that we have our glorious JWST images. "
   ]
  },
  {
   "cell_type": "code",
   "execution_count": null,
   "id": "c268a6cc-2f9c-4819-adb4-bde89e6643e8",
   "metadata": {},
   "outputs": [],
   "source": [
    "plot_options.layer = 'STScI DSS[PRIMARY,1]'  # this is the first-loaded image\n",
    "plot_options.image_visible = False"
   ]
  },
  {
   "cell_type": "markdown",
   "id": "b1f0db11-7aa7-4226-84cf-362515e87721",
   "metadata": {},
   "source": [
    "### Quick color composites by assigning RGB channels\n",
    "\n",
    "We currently have three images in the viewer from observations at: 0.7, 1.87, and 2.12 µm. We can quickly turn this into an RGB like so:"
   ]
  },
  {
   "cell_type": "code",
   "execution_count": null,
   "id": "5354de9b-4e58-4be9-b8ac-02e466130d6d",
   "metadata": {},
   "outputs": [],
   "source": [
    "plot_options.apply_RGB_presets()"
   ]
  },
  {
   "cell_type": "markdown",
   "id": "f420e107-4af1-4413-b696-ed3f8d5fbb23",
   "metadata": {},
   "source": [
    "We can continue to fine-tune our plot options to visualize the features that are useful for your science:"
   ]
  },
  {
   "cell_type": "code",
   "execution_count": null,
   "id": "09fcf91d-9d21-4c63-abcc-45f3f149bfa0",
   "metadata": {},
   "outputs": [],
   "source": [
    "for layer in plot_options.layer.choices:\n",
    "    plot_options.layer = layer\n",
    "    plot_options.stretch_function = 'linear'\n",
    "    plot_options.stretch_preset = '99%'\n",
    "    plot_options.image_opacity = 0.8"
   ]
  },
  {
   "cell_type": "markdown",
   "id": "bad6265e-76fe-4829-8b24-d80c2a64d48b",
   "metadata": {},
   "source": [
    "### Inspecting data quality\n",
    "\n",
    "Now suppose there's a feature in your images that you don't fully understand. You might want to confirm that a potentially interesting feature is real, and not an artifact of the `jwst` reduction pipeline. Sometimes inspecting lower level data products is useful for this task. The NIRCam images above are Level 3 products, but in this next example, we're going to use a Level 2 image that contains a Data Quality (DQ) array, flagging possible problems encountered by the `jwst` pipeline. We will use observations of the Helix Nebula (NGC 7293). First let's download the data:"
   ]
  },
  {
   "cell_type": "code",
   "execution_count": null,
   "id": "6f54a027-e36e-4ad9-b3a0-d6f89a16c023",
   "metadata": {},
   "outputs": [],
   "source": [
    "uri = 'mast:JWST/product/jw02211044001_02201_00002_nrcblong_cal.fits'\n",
    "fn = uri.split('/')[-1]\n",
    "path = f'{data_dir}/{fn}'\n",
    "result = Observations.download_file(uri, local_path=path)"
   ]
  },
  {
   "cell_type": "markdown",
   "id": "3eb296a5-53d6-471e-b8de-5b6ce7aa6722",
   "metadata": {},
   "source": [
    "Now we will load the data into `Imviz`. This time we will specifically load two FITS extensions: the science data labeled `SCI`, and the data quality array labeled `DQ`. We will also open the Data Quality plugin:"
   ]
  },
  {
   "cell_type": "code",
   "execution_count": null,
   "id": "35546476-f985-4c88-a325-7543cfb0e539",
   "metadata": {},
   "outputs": [],
   "source": [
    "imviz = Imviz()\n",
    "imviz.load_data(path, ext=('SCI', 'DQ'))\n",
    "imviz.show()\n",
    "\n",
    "dq = imviz.plugins['Data Quality']\n",
    "dq.open_in_tray()"
   ]
  },
  {
   "cell_type": "code",
   "execution_count": null,
   "id": "3ee428e5-db74-4f18-b88b-3fae615f5af4",
   "metadata": {},
   "outputs": [],
   "source": []
  }
 ],
 "metadata": {
  "kernelspec": {
   "display_name": "Python 3 (ipykernel)",
   "language": "python",
   "name": "python3"
  },
  "language_info": {
   "codemirror_mode": {
    "name": "ipython",
    "version": 3
   },
   "file_extension": ".py",
   "mimetype": "text/x-python",
   "name": "python",
   "nbconvert_exporter": "python",
   "pygments_lexer": "ipython3",
   "version": "3.11.5"
  }
 },
 "nbformat": 4,
 "nbformat_minor": 5
}
